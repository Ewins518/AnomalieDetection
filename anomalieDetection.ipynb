{
  "nbformat": 4,
  "nbformat_minor": 0,
  "metadata": {
    "colab": {
      "provenance": [],
      "authorship_tag": "ABX9TyOpF/gtsLKnUCB45azhcGDZ",
      "include_colab_link": true
    },
    "kernelspec": {
      "name": "python3",
      "display_name": "Python 3"
    },
    "language_info": {
      "name": "python"
    }
  },
  "cells": [
    {
      "cell_type": "markdown",
      "metadata": {
        "id": "view-in-github",
        "colab_type": "text"
      },
      "source": [
        "<a href=\"https://colab.research.google.com/github/Ewins518/AnomalieDetection/blob/main/anomalieDetection.ipynb\" target=\"_parent\"><img src=\"https://colab.research.google.com/assets/colab-badge.svg\" alt=\"Open In Colab\"/></a>"
      ]
    },
    {
      "cell_type": "code",
      "execution_count": 5,
      "metadata": {
        "colab": {
          "base_uri": "https://localhost:8080/"
        },
        "id": "IfYGEIY5xJB3",
        "outputId": "444629de-68c8-42d8-c077-318b0101c0fc"
      },
      "outputs": [
        {
          "output_type": "stream",
          "name": "stdout",
          "text": [
            "Tensorflow version:  2.11.0\n"
          ]
        }
      ],
      "source": [
        "from tensorflow import keras\n",
        "from sklearn.preprocessing import StandardScaler,MinMaxScaler\n",
        "from sklearn.model_selection import train_test_split\n",
        "import plotly.graph_objects as go\n",
        "import numpy as np\n",
        "from tensorflow.keras.models import Sequential\n",
        "from tensorflow.keras.layers import Dense, LSTM, Dropout, RepeatVector, TimeDistributed\n",
        "import tensorflow as tf\n",
        "import pandas as pd\n",
        "import seaborn as sns\n",
        "import matplotlib.pyplot as plt\n",
        "np.random.seed(1)\n",
        "tf.random.set_seed(1)\n",
        "print('Tensorflow version: ', tf.__version__)"
      ]
    },
    {
      "cell_type": "code",
      "source": [
        "df = pd.read_csv('JPM.csv', parse_dates=['Date'], index_col='Date')\n",
        "df.head()"
      ],
      "metadata": {
        "colab": {
          "base_uri": "https://localhost:8080/",
          "height": 238
        },
        "id": "7eCdm6ay1N4R",
        "outputId": "a749655d-ec5e-448e-88d7-f9b4625d83f2"
      },
      "execution_count": 3,
      "outputs": [
        {
          "output_type": "execute_result",
          "data": {
            "text/plain": [
              "                  Open        High         Low       Close  Adj Close  \\\n",
              "Date                                                                    \n",
              "2018-03-14  116.559998  116.589996  114.599998  114.949997  99.224884   \n",
              "2018-03-15  115.870003  116.000000  114.830002  115.239998  99.475212   \n",
              "2018-03-16  115.339996  116.599998  115.339996  115.440002  99.647858   \n",
              "2018-03-19  115.099998  115.449997  113.300003  114.529999  98.862343   \n",
              "2018-03-20  114.870003  115.449997  114.449997  114.639999  98.957291   \n",
              "\n",
              "              Volume  \n",
              "Date                  \n",
              "2018-03-14  12905100  \n",
              "2018-03-15   8748000  \n",
              "2018-03-16  19888900  \n",
              "2018-03-19  13214900  \n",
              "2018-03-20   9921200  "
            ],
            "text/html": [
              "\n",
              "  <div id=\"df-90ec6321-3935-4bc3-a6ee-59b515e49cb4\">\n",
              "    <div class=\"colab-df-container\">\n",
              "      <div>\n",
              "<style scoped>\n",
              "    .dataframe tbody tr th:only-of-type {\n",
              "        vertical-align: middle;\n",
              "    }\n",
              "\n",
              "    .dataframe tbody tr th {\n",
              "        vertical-align: top;\n",
              "    }\n",
              "\n",
              "    .dataframe thead th {\n",
              "        text-align: right;\n",
              "    }\n",
              "</style>\n",
              "<table border=\"1\" class=\"dataframe\">\n",
              "  <thead>\n",
              "    <tr style=\"text-align: right;\">\n",
              "      <th></th>\n",
              "      <th>Open</th>\n",
              "      <th>High</th>\n",
              "      <th>Low</th>\n",
              "      <th>Close</th>\n",
              "      <th>Adj Close</th>\n",
              "      <th>Volume</th>\n",
              "    </tr>\n",
              "    <tr>\n",
              "      <th>Date</th>\n",
              "      <th></th>\n",
              "      <th></th>\n",
              "      <th></th>\n",
              "      <th></th>\n",
              "      <th></th>\n",
              "      <th></th>\n",
              "    </tr>\n",
              "  </thead>\n",
              "  <tbody>\n",
              "    <tr>\n",
              "      <th>2018-03-14</th>\n",
              "      <td>116.559998</td>\n",
              "      <td>116.589996</td>\n",
              "      <td>114.599998</td>\n",
              "      <td>114.949997</td>\n",
              "      <td>99.224884</td>\n",
              "      <td>12905100</td>\n",
              "    </tr>\n",
              "    <tr>\n",
              "      <th>2018-03-15</th>\n",
              "      <td>115.870003</td>\n",
              "      <td>116.000000</td>\n",
              "      <td>114.830002</td>\n",
              "      <td>115.239998</td>\n",
              "      <td>99.475212</td>\n",
              "      <td>8748000</td>\n",
              "    </tr>\n",
              "    <tr>\n",
              "      <th>2018-03-16</th>\n",
              "      <td>115.339996</td>\n",
              "      <td>116.599998</td>\n",
              "      <td>115.339996</td>\n",
              "      <td>115.440002</td>\n",
              "      <td>99.647858</td>\n",
              "      <td>19888900</td>\n",
              "    </tr>\n",
              "    <tr>\n",
              "      <th>2018-03-19</th>\n",
              "      <td>115.099998</td>\n",
              "      <td>115.449997</td>\n",
              "      <td>113.300003</td>\n",
              "      <td>114.529999</td>\n",
              "      <td>98.862343</td>\n",
              "      <td>13214900</td>\n",
              "    </tr>\n",
              "    <tr>\n",
              "      <th>2018-03-20</th>\n",
              "      <td>114.870003</td>\n",
              "      <td>115.449997</td>\n",
              "      <td>114.449997</td>\n",
              "      <td>114.639999</td>\n",
              "      <td>98.957291</td>\n",
              "      <td>9921200</td>\n",
              "    </tr>\n",
              "  </tbody>\n",
              "</table>\n",
              "</div>\n",
              "      <button class=\"colab-df-convert\" onclick=\"convertToInteractive('df-90ec6321-3935-4bc3-a6ee-59b515e49cb4')\"\n",
              "              title=\"Convert this dataframe to an interactive table.\"\n",
              "              style=\"display:none;\">\n",
              "        \n",
              "  <svg xmlns=\"http://www.w3.org/2000/svg\" height=\"24px\"viewBox=\"0 0 24 24\"\n",
              "       width=\"24px\">\n",
              "    <path d=\"M0 0h24v24H0V0z\" fill=\"none\"/>\n",
              "    <path d=\"M18.56 5.44l.94 2.06.94-2.06 2.06-.94-2.06-.94-.94-2.06-.94 2.06-2.06.94zm-11 1L8.5 8.5l.94-2.06 2.06-.94-2.06-.94L8.5 2.5l-.94 2.06-2.06.94zm10 10l.94 2.06.94-2.06 2.06-.94-2.06-.94-.94-2.06-.94 2.06-2.06.94z\"/><path d=\"M17.41 7.96l-1.37-1.37c-.4-.4-.92-.59-1.43-.59-.52 0-1.04.2-1.43.59L10.3 9.45l-7.72 7.72c-.78.78-.78 2.05 0 2.83L4 21.41c.39.39.9.59 1.41.59.51 0 1.02-.2 1.41-.59l7.78-7.78 2.81-2.81c.8-.78.8-2.07 0-2.86zM5.41 20L4 18.59l7.72-7.72 1.47 1.35L5.41 20z\"/>\n",
              "  </svg>\n",
              "      </button>\n",
              "      \n",
              "  <style>\n",
              "    .colab-df-container {\n",
              "      display:flex;\n",
              "      flex-wrap:wrap;\n",
              "      gap: 12px;\n",
              "    }\n",
              "\n",
              "    .colab-df-convert {\n",
              "      background-color: #E8F0FE;\n",
              "      border: none;\n",
              "      border-radius: 50%;\n",
              "      cursor: pointer;\n",
              "      display: none;\n",
              "      fill: #1967D2;\n",
              "      height: 32px;\n",
              "      padding: 0 0 0 0;\n",
              "      width: 32px;\n",
              "    }\n",
              "\n",
              "    .colab-df-convert:hover {\n",
              "      background-color: #E2EBFA;\n",
              "      box-shadow: 0px 1px 2px rgba(60, 64, 67, 0.3), 0px 1px 3px 1px rgba(60, 64, 67, 0.15);\n",
              "      fill: #174EA6;\n",
              "    }\n",
              "\n",
              "    [theme=dark] .colab-df-convert {\n",
              "      background-color: #3B4455;\n",
              "      fill: #D2E3FC;\n",
              "    }\n",
              "\n",
              "    [theme=dark] .colab-df-convert:hover {\n",
              "      background-color: #434B5C;\n",
              "      box-shadow: 0px 1px 3px 1px rgba(0, 0, 0, 0.15);\n",
              "      filter: drop-shadow(0px 1px 2px rgba(0, 0, 0, 0.3));\n",
              "      fill: #FFFFFF;\n",
              "    }\n",
              "  </style>\n",
              "\n",
              "      <script>\n",
              "        const buttonEl =\n",
              "          document.querySelector('#df-90ec6321-3935-4bc3-a6ee-59b515e49cb4 button.colab-df-convert');\n",
              "        buttonEl.style.display =\n",
              "          google.colab.kernel.accessAllowed ? 'block' : 'none';\n",
              "\n",
              "        async function convertToInteractive(key) {\n",
              "          const element = document.querySelector('#df-90ec6321-3935-4bc3-a6ee-59b515e49cb4');\n",
              "          const dataTable =\n",
              "            await google.colab.kernel.invokeFunction('convertToInteractive',\n",
              "                                                     [key], {});\n",
              "          if (!dataTable) return;\n",
              "\n",
              "          const docLinkHtml = 'Like what you see? Visit the ' +\n",
              "            '<a target=\"_blank\" href=https://colab.research.google.com/notebooks/data_table.ipynb>data table notebook</a>'\n",
              "            + ' to learn more about interactive tables.';\n",
              "          element.innerHTML = '';\n",
              "          dataTable['output_type'] = 'display_data';\n",
              "          await google.colab.output.renderOutput(dataTable, element);\n",
              "          const docLink = document.createElement('div');\n",
              "          docLink.innerHTML = docLinkHtml;\n",
              "          element.appendChild(docLink);\n",
              "        }\n",
              "      </script>\n",
              "    </div>\n",
              "  </div>\n",
              "  "
            ]
          },
          "metadata": {},
          "execution_count": 3
        }
      ]
    },
    {
      "cell_type": "code",
      "source": [
        "plt.plot(df['Close'], label='Close')\n",
        "plt.legend();"
      ],
      "metadata": {
        "colab": {
          "base_uri": "https://localhost:8080/",
          "height": 265
        },
        "id": "cawrNmKj0dM3",
        "outputId": "a61a6535-a366-4a59-cd68-7cfb44ed6eaf"
      },
      "execution_count": null,
      "outputs": [
        {
          "output_type": "display_data",
          "data": {
            "text/plain": [
              "<Figure size 432x288 with 1 Axes>"
            ],
            "image/png": "[encoded data removed]"
          },
          "metadata": {
            "needs_background": "light"
          }
        }
      ]
    },
    {
      "cell_type": "markdown",
      "source": [
        "# Data Preprocessing"
      ],
      "metadata": {
        "id": "IVEydi-M3uYD"
      }
    },
    {
      "cell_type": "code",
      "source": [
        "# Use the 80% of the data to train our model\n",
        "train_size = int(len(df) * 0.80)\n",
        "test_size = len(df) - train_size\n",
        "train, test = df.iloc[0:train_size], df.iloc[train_size:len(df)]\n",
        "print(train.shape, test.shape)\n",
        "scaler = StandardScaler()\n",
        "scaler = scaler.fit(train[['Close']])\n",
        "train['Close'] = scaler.transform(train[['Close']])\n",
        "test['Close'] = scaler.transform(test[['Close']])"
      ],
      "metadata": {
        "colab": {
          "base_uri": "https://localhost:8080/"
        },
        "id": "z0xCZzcw2E06",
        "outputId": "54d18874-466d-4058-a5db-d464d3e69cb5"
      },
      "execution_count": null,
      "outputs": [
        {
          "output_type": "stream",
          "name": "stdout",
          "text": [
            "(1006, 6) (252, 6)\n"
          ]
        },
        {
          "output_type": "stream",
          "name": "stderr",
          "text": [
            "<ipython-input-11-bb8c86904b09>:8: SettingWithCopyWarning: \n",
            "A value is trying to be set on a copy of a slice from a DataFrame.\n",
            "Try using .loc[row_indexer,col_indexer] = value instead\n",
            "\n",
            "See the caveats in the documentation: https://pandas.pydata.org/pandas-docs/stable/user_guide/indexing.html#returning-a-view-versus-a-copy\n",
            "  train['Close'] = scaler.transform(train[['Close']])\n",
            "<ipython-input-11-bb8c86904b09>:9: SettingWithCopyWarning: \n",
            "A value is trying to be set on a copy of a slice from a DataFrame.\n",
            "Try using .loc[row_indexer,col_indexer] = value instead\n",
            "\n",
            "See the caveats in the documentation: https://pandas.pydata.org/pandas-docs/stable/user_guide/indexing.html#returning-a-view-versus-a-copy\n",
            "  test['Close'] = scaler.transform(test[['Close']])\n"
          ]
        }
      ]
    },
    {
      "cell_type": "code",
      "source": [
        "t = train[['Close']]"
      ],
      "metadata": {
        "id": "KO-0zeGQ74bg"
      },
      "execution_count": null,
      "outputs": []
    },
    {
      "cell_type": "code",
      "source": [
        "def create_seq(X, y, time_steps=1):\n",
        "  Xs, ys = [], []\n",
        "  for i in range(len(X) - time_steps):\n",
        "    v = X.iloc[i:(i + time_steps)].values\n",
        "    Xs.append(v)\n",
        "    ys.append(y.iloc[i + time_steps])\n",
        "  return np.array(Xs), np.array(ys)"
      ],
      "metadata": {
        "id": "tmcuRhOQ7_CL"
      },
      "execution_count": null,
      "outputs": []
    },
    {
      "cell_type": "code",
      "source": [
        "TIME_STEPS = 30\n",
        "# reshape to [samples, time_steps, n_features]\n",
        "X_train, y_train = create_seq( train[['Close']],train.Close,TIME_STEPS)\n",
        "X_test, y_test = create_seq(test[['Close']], test.Close,TIME_STEPS)\n",
        "print(X_train.shape)"
      ],
      "metadata": {
        "colab": {
          "base_uri": "https://localhost:8080/"
        },
        "id": "pQzpZTmO8f5C",
        "outputId": "4bbc6f6e-d6dc-4905-cd41-a1a0eb86086b"
      },
      "execution_count": null,
      "outputs": [
        {
          "output_type": "stream",
          "name": "stdout",
          "text": [
            "(976, 30, 1)\n"
          ]
        }
      ]
    },
    {
      "cell_type": "code",
      "source": [
        "y_train.shape"
      ],
      "metadata": {
        "colab": {
          "base_uri": "https://localhost:8080/"
        },
        "id": "hfnkUhhHWJbQ",
        "outputId": "bfd514c4-5399-41cd-8bf0-204382f25f46"
      },
      "execution_count": null,
      "outputs": [
        {
          "output_type": "execute_result",
          "data": {
            "text/plain": [
              "(976,)"
            ]
          },
          "metadata": {},
          "execution_count": 73
        }
      ]
    },
    {
      "cell_type": "markdown",
      "source": [
        "# Bulid the model"
      ],
      "metadata": {
        "id": "X6mrdGhx-HKb"
      }
    },
    {
      "cell_type": "code",
      "source": [
        "model = keras.Sequential()\n",
        "model.add(keras.layers.LSTM(\n",
        "units=64,\n",
        "input_shape=(X_train.shape[1], X_train.shape[2])\n",
        "))\n",
        "model.add(keras.layers.Dropout(rate=0.2))\n",
        "model.add(keras.layers.RepeatVector(n=X_train.shape[1]))\n",
        "model.add(keras.layers.LSTM(units=64, return_sequences=True))\n",
        "model.add(keras.layers.Dropout(rate=0.2))\n",
        "model.add(keras.layers.TimeDistributed(\n",
        "keras.layers.Dense(units=X_train.shape[2])\n",
        ")\n",
        ")\n",
        "model.compile(loss='mae', optimizer='adam')"
      ],
      "metadata": {
        "id": "wEEPVmGc-GZY"
      },
      "execution_count": null,
      "outputs": []
    },
    {
      "cell_type": "code",
      "source": [
        "history = model.fit(\n",
        "X_train, y_train,\n",
        "epochs=10,\n",
        "batch_size=32,\n",
        "validation_split=0.1,\n",
        "shuffle=False\n",
        ")"
      ],
      "metadata": {
        "colab": {
          "base_uri": "https://localhost:8080/"
        },
        "id": "OT1HCtE-_eD4",
        "outputId": "900732f5-efc8-4fb9-e83d-2f1aa69d532b"
      },
      "execution_count": null,
      "outputs": [
        {
          "output_type": "stream",
          "name": "stdout",
          "text": [
            "Epoch 1/10\n",
            "28/28 [==============================] - 8s 78ms/step - loss: 0.3342 - val_loss: 0.3993\n",
            "Epoch 2/10\n",
            "28/28 [==============================] - 1s 45ms/step - loss: 0.3153 - val_loss: 0.2889\n",
            "Epoch 3/10\n",
            "28/28 [==============================] - 1s 44ms/step - loss: 0.2383 - val_loss: 0.3134\n",
            "Epoch 4/10\n",
            "28/28 [==============================] - 1s 44ms/step - loss: 0.2572 - val_loss: 0.2467\n",
            "Epoch 5/10\n",
            "28/28 [==============================] - 1s 44ms/step - loss: 0.2329 - val_loss: 0.2453\n",
            "Epoch 6/10\n",
            "28/28 [==============================] - 1s 44ms/step - loss: 0.2383 - val_loss: 0.2367\n",
            "Epoch 7/10\n",
            "28/28 [==============================] - 1s 44ms/step - loss: 0.2381 - val_loss: 0.2316\n",
            "Epoch 8/10\n",
            "28/28 [==============================] - 2s 66ms/step - loss: 0.2205 - val_loss: 0.2298\n",
            "Epoch 9/10\n",
            "28/28 [==============================] - 2s 65ms/step - loss: 0.2255 - val_loss: 0.2267\n",
            "Epoch 10/10\n",
            "28/28 [==============================] - 1s 47ms/step - loss: 0.2336 - val_loss: 0.2256\n"
          ]
        }
      ]
    },
    {
      "cell_type": "code",
      "source": [
        "plt.plot(history.history['loss'], label='Training loss')\n",
        "plt.plot(history.history['val_loss'], label='Validation loss')\n",
        "plt.legend();"
      ],
      "metadata": {
        "colab": {
          "base_uri": "https://localhost:8080/",
          "height": 265
        },
        "id": "fjI_On5sAqJS",
        "outputId": "b6ac0fd1-1da4-4ec3-cd33-344d343a1774"
      },
      "execution_count": null,
      "outputs": [
        {
          "output_type": "display_data",
          "data": {
            "text/plain": [
              "<Figure size 432x288 with 1 Axes>"
            ],
            "image/png": "[encoded data removed]"
          },
          "metadata": {
            "needs_background": "light"
          }
        }
      ]
    },
    {
      "cell_type": "code",
      "source": [
        "model.evaluate(X_test, y_test)"
      ],
      "metadata": {
        "colab": {
          "base_uri": "https://localhost:8080/"
        },
        "id": "88a2tl6zA8EM",
        "outputId": "6e49bbf1-a987-40bd-bb7a-e94cf4adb48d"
      },
      "execution_count": null,
      "outputs": [
        {
          "output_type": "stream",
          "name": "stdout",
          "text": [
            "7/7 [==============================] - 0s 24ms/step - loss: 0.1855\n"
          ]
        },
        {
          "output_type": "execute_result",
          "data": {
            "text/plain": [
              "0.1855475753545761"
            ]
          },
          "metadata": {},
          "execution_count": 20
        }
      ]
    },
    {
      "cell_type": "code",
      "source": [
        "X_train_pred = model.predict(X_train)\n",
        "train_mae_loss = np.mean(np.abs(X_train_pred - X_train), axis=1)"
      ],
      "metadata": {
        "colab": {
          "base_uri": "https://localhost:8080/"
        },
        "id": "LfYbEn7pBDYv",
        "outputId": "d1b47ce2-56a7-42c8-fba4-fd6d2d8d655e"
      },
      "execution_count": null,
      "outputs": [
        {
          "output_type": "stream",
          "name": "stdout",
          "text": [
            "31/31 [==============================] - 3s 25ms/step\n"
          ]
        }
      ]
    },
    {
      "cell_type": "code",
      "source": [
        "sns.distplot(train_mae_loss, bins=50, kde=True);"
      ],
      "metadata": {
        "colab": {
          "base_uri": "https://localhost:8080/",
          "height": 320
        },
        "id": "YTnfs7fIB_V0",
        "outputId": "4685caf1-ae26-4ea2-8a2c-f4d6b1b5d2eb"
      },
      "execution_count": null,
      "outputs": [
        {
          "output_type": "stream",
          "name": "stderr",
          "text": [
            "/usr/local/lib/python3.9/dist-packages/seaborn/distributions.py:2619: FutureWarning: `distplot` is a deprecated function and will be removed in a future version. Please adapt your code to use either `displot` (a figure-level function with similar flexibility) or `histplot` (an axes-level function for histograms).\n",
            "  warnings.warn(msg, FutureWarning)\n"
          ]
        },
        {
          "output_type": "display_data",
          "data": {
            "text/plain": [
              "<Figure size 432x288 with 1 Axes>"
            ],
            "image/png": "[encoded data removed]"
          },
          "metadata": {
            "needs_background": "light"
          }
        }
      ]
    },
    {
      "cell_type": "code",
      "source": [
        "THRESHOLD = 0.4\n",
        "X_test_pred = model.predict(X_test)\n",
        "test_mae_loss = np.mean(np.abs(X_test_pred - X_test), axis=1)"
      ],
      "metadata": {
        "colab": {
          "base_uri": "https://localhost:8080/"
        },
        "id": "bV8ZGxVTCD1Z",
        "outputId": "81bd97cf-8b61-4b85-8d93-53e7bdc138e6"
      },
      "execution_count": null,
      "outputs": [
        {
          "output_type": "stream",
          "name": "stdout",
          "text": [
            "7/7 [==============================] - 0s 15ms/step\n"
          ]
        }
      ]
    },
    {
      "cell_type": "code",
      "source": [
        "test_score_df = pd.DataFrame(index=test[TIME_STEPS:].index)\n",
        "test_score_df['loss'] = test_mae_loss\n",
        "test_score_df['threshold'] = THRESHOLD\n",
        "test_score_df['anomaly'] = test_score_df.loss > test_score_df.threshold\n",
        "test_score_df['close'] = test[TIME_STEPS:].Close"
      ],
      "metadata": {
        "id": "afe46TXjCYT4"
      },
      "execution_count": null,
      "outputs": []
    },
    {
      "cell_type": "code",
      "source": [
        "plt.plot(test_score_df.index, test_score_df.loss, label='loss')\n",
        "plt.plot(test_score_df.index, test_score_df.threshold, label='threshold')\n",
        "plt.xticks(rotation=25)\n",
        "plt.legend();"
      ],
      "metadata": {
        "colab": {
          "base_uri": "https://localhost:8080/",
          "height": 282
        },
        "id": "-i-eA4lKCb_D",
        "outputId": "bcff392b-7058-4f64-9064-234b32761ee7"
      },
      "execution_count": null,
      "outputs": [
        {
          "output_type": "display_data",
          "data": {
            "text/plain": [
              "<Figure size 432x288 with 1 Axes>"
            ],
            "image/png": "[encoded data removed]"
          },
          "metadata": {
            "needs_background": "light"
          }
        }
      ]
    },
    {
      "cell_type": "markdown",
      "source": [
        "It seems that we are effectively applying a threshold to filter out extreme values."
      ],
      "metadata": {
        "id": "t5W32f_nC0n8"
      }
    },
    {
      "cell_type": "code",
      "source": [
        "anomalies = test_score_df[test_score_df.anomaly == True]\n",
        "anomalies.head()"
      ],
      "metadata": {
        "colab": {
          "base_uri": "https://localhost:8080/",
          "height": 238
        },
        "id": "QaLAB7WVCjG4",
        "outputId": "f84267b2-668a-433e-aea1-e05041067d9c"
      },
      "execution_count": null,
      "outputs": [
        {
          "output_type": "execute_result",
          "data": {
            "text/plain": [
              "                loss  threshold  anomaly     close\n",
              "Date                                              \n",
              "2022-05-02  0.401326        0.4     True -0.126250\n",
              "2022-05-03  0.411107        0.4     True -0.016045\n",
              "2022-10-28  0.405672        0.4     True  0.114236\n",
              "2022-10-31  0.442604        0.4     True  0.105693\n",
              "2022-11-01  0.470982        0.4     True  0.202657"
            ],
            "text/html": [
              "\n",
              "  <div id=\"df-87562b3f-bdf9-494e-b493-3d7f1ea66d58\">\n",
              "    <div class=\"colab-df-container\">\n",
              "      <div>\n",
              "<style scoped>\n",
              "    .dataframe tbody tr th:only-of-type {\n",
              "        vertical-align: middle;\n",
              "    }\n",
              "\n",
              "    .dataframe tbody tr th {\n",
              "        vertical-align: top;\n",
              "    }\n",
              "\n",
              "    .dataframe thead th {\n",
              "        text-align: right;\n",
              "    }\n",
              "</style>\n",
              "<table border=\"1\" class=\"dataframe\">\n",
              "  <thead>\n",
              "    <tr style=\"text-align: right;\">\n",
              "      <th></th>\n",
              "      <th>loss</th>\n",
              "      <th>threshold</th>\n",
              "      <th>anomaly</th>\n",
              "      <th>close</th>\n",
              "    </tr>\n",
              "    <tr>\n",
              "      <th>Date</th>\n",
              "      <th></th>\n",
              "      <th></th>\n",
              "      <th></th>\n",
              "      <th></th>\n",
              "    </tr>\n",
              "  </thead>\n",
              "  <tbody>\n",
              "    <tr>\n",
              "      <th>2022-05-02</th>\n",
              "      <td>0.401326</td>\n",
              "      <td>0.4</td>\n",
              "      <td>True</td>\n",
              "      <td>-0.126250</td>\n",
              "    </tr>\n",
              "    <tr>\n",
              "      <th>2022-05-03</th>\n",
              "      <td>0.411107</td>\n",
              "      <td>0.4</td>\n",
              "      <td>True</td>\n",
              "      <td>-0.016045</td>\n",
              "    </tr>\n",
              "    <tr>\n",
              "      <th>2022-10-28</th>\n",
              "      <td>0.405672</td>\n",
              "      <td>0.4</td>\n",
              "      <td>True</td>\n",
              "      <td>0.114236</td>\n",
              "    </tr>\n",
              "    <tr>\n",
              "      <th>2022-10-31</th>\n",
              "      <td>0.442604</td>\n",
              "      <td>0.4</td>\n",
              "      <td>True</td>\n",
              "      <td>0.105693</td>\n",
              "    </tr>\n",
              "    <tr>\n",
              "      <th>2022-11-01</th>\n",
              "      <td>0.470982</td>\n",
              "      <td>0.4</td>\n",
              "      <td>True</td>\n",
              "      <td>0.202657</td>\n",
              "    </tr>\n",
              "  </tbody>\n",
              "</table>\n",
              "</div>\n",
              "      <button class=\"colab-df-convert\" onclick=\"convertToInteractive('df-87562b3f-bdf9-494e-b493-3d7f1ea66d58')\"\n",
              "              title=\"Convert this dataframe to an interactive table.\"\n",
              "              style=\"display:none;\">\n",
              "        \n",
              "  <svg xmlns=\"http://www.w3.org/2000/svg\" height=\"24px\"viewBox=\"0 0 24 24\"\n",
              "       width=\"24px\">\n",
              "    <path d=\"M0 0h24v24H0V0z\" fill=\"none\"/>\n",
              "    <path d=\"M18.56 5.44l.94 2.06.94-2.06 2.06-.94-2.06-.94-.94-2.06-.94 2.06-2.06.94zm-11 1L8.5 8.5l.94-2.06 2.06-.94-2.06-.94L8.5 2.5l-.94 2.06-2.06.94zm10 10l.94 2.06.94-2.06 2.06-.94-2.06-.94-.94-2.06-.94 2.06-2.06.94z\"/><path d=\"M17.41 7.96l-1.37-1.37c-.4-.4-.92-.59-1.43-.59-.52 0-1.04.2-1.43.59L10.3 9.45l-7.72 7.72c-.78.78-.78 2.05 0 2.83L4 21.41c.39.39.9.59 1.41.59.51 0 1.02-.2 1.41-.59l7.78-7.78 2.81-2.81c.8-.78.8-2.07 0-2.86zM5.41 20L4 18.59l7.72-7.72 1.47 1.35L5.41 20z\"/>\n",
              "  </svg>\n",
              "      </button>\n",
              "      \n",
              "  <style>\n",
              "    .colab-df-container {\n",
              "      display:flex;\n",
              "      flex-wrap:wrap;\n",
              "      gap: 12px;\n",
              "    }\n",
              "\n",
              "    .colab-df-convert {\n",
              "      background-color: #E8F0FE;\n",
              "      border: none;\n",
              "      border-radius: 50%;\n",
              "      cursor: pointer;\n",
              "      display: none;\n",
              "      fill: #1967D2;\n",
              "      height: 32px;\n",
              "      padding: 0 0 0 0;\n",
              "      width: 32px;\n",
              "    }\n",
              "\n",
              "    .colab-df-convert:hover {\n",
              "      background-color: #E2EBFA;\n",
              "      box-shadow: 0px 1px 2px rgba(60, 64, 67, 0.3), 0px 1px 3px 1px rgba(60, 64, 67, 0.15);\n",
              "      fill: #174EA6;\n",
              "    }\n",
              "\n",
              "    [theme=dark] .colab-df-convert {\n",
              "      background-color: #3B4455;\n",
              "      fill: #D2E3FC;\n",
              "    }\n",
              "\n",
              "    [theme=dark] .colab-df-convert:hover {\n",
              "      background-color: #434B5C;\n",
              "      box-shadow: 0px 1px 3px 1px rgba(0, 0, 0, 0.15);\n",
              "      filter: drop-shadow(0px 1px 2px rgba(0, 0, 0, 0.3));\n",
              "      fill: #FFFFFF;\n",
              "    }\n",
              "  </style>\n",
              "\n",
              "      <script>\n",
              "        const buttonEl =\n",
              "          document.querySelector('#df-87562b3f-bdf9-494e-b493-3d7f1ea66d58 button.colab-df-convert');\n",
              "        buttonEl.style.display =\n",
              "          google.colab.kernel.accessAllowed ? 'block' : 'none';\n",
              "\n",
              "        async function convertToInteractive(key) {\n",
              "          const element = document.querySelector('#df-87562b3f-bdf9-494e-b493-3d7f1ea66d58');\n",
              "          const dataTable =\n",
              "            await google.colab.kernel.invokeFunction('convertToInteractive',\n",
              "                                                     [key], {});\n",
              "          if (!dataTable) return;\n",
              "\n",
              "          const docLinkHtml = 'Like what you see? Visit the ' +\n",
              "            '<a target=\"_blank\" href=https://colab.research.google.com/notebooks/data_table.ipynb>data table notebook</a>'\n",
              "            + ' to learn more about interactive tables.';\n",
              "          element.innerHTML = '';\n",
              "          dataTable['output_type'] = 'display_data';\n",
              "          await google.colab.output.renderOutput(dataTable, element);\n",
              "          const docLink = document.createElement('div');\n",
              "          docLink.innerHTML = docLinkHtml;\n",
              "          element.appendChild(docLink);\n",
              "        }\n",
              "      </script>\n",
              "    </div>\n",
              "  </div>\n",
              "  "
            ]
          },
          "metadata": {},
          "execution_count": 34
        }
      ]
    },
    {
      "cell_type": "code",
      "source": [
        "anomalies_close = anomalies[[\"close\"]].values.flatten()\n",
        "anomalies_close = anomalies_close.reshape(-1, 1) # Reshape to a 2D array with one \n",
        "anomalies_close = scaler.inverse_transform(anomalies_close)"
      ],
      "metadata": {
        "id": "dLj_g-zODBer"
      },
      "execution_count": null,
      "outputs": []
    },
    {
      "cell_type": "code",
      "source": [
        "plt.plot(\n",
        "test[TIME_STEPS:].index,\n",
        "scaler.inverse_transform(test[TIME_STEPS:][[\"Close\"]]),\n",
        "label='close price'\n",
        ");\n",
        "# convert it to a 1D array for the plot\n",
        "anomalies_close = anomalies_close.flatten()\n",
        "sns.scatterplot(\n",
        "anomalies.index,\n",
        "anomalies_close,\n",
        "color=sns.color_palette()[3],\n",
        "s=52,\n",
        "label='anomaly'\n",
        ")\n",
        "plt.xticks(rotation=25)\n",
        "plt.legend();"
      ],
      "metadata": {
        "colab": {
          "base_uri": "https://localhost:8080/",
          "height": 351
        },
        "id": "5Tm7_ebvDS3j",
        "outputId": "516f2ef9-47e3-4813-927e-bcc424a86ac7"
      },
      "execution_count": null,
      "outputs": [
        {
          "output_type": "stream",
          "name": "stderr",
          "text": [
            "/usr/local/lib/python3.9/dist-packages/seaborn/_decorators.py:36: FutureWarning: Pass the following variables as keyword args: x, y. From version 0.12, the only valid positional argument will be `data`, and passing other arguments without an explicit keyword will result in an error or misinterpretation.\n",
            "  warnings.warn(\n"
          ]
        },
        {
          "output_type": "display_data",
          "data": {
            "text/plain": [
              "<Figure size 432x288 with 1 Axes>"
            ],
            "image/png": "[encoded data removed]"
          },
          "metadata": {
            "needs_background": "light"
          }
        }
      ]
    },
    {
      "cell_type": "markdown",
      "source": [
        "### Interpretation: It is important to carefully examine the chart.The anomalies, represented by the red dots, seem to be present mainly in areas where there are sudden changes in the closing price"
      ],
      "metadata": {
        "id": "40C2mMcvD-J4"
      }
    },
    {
      "cell_type": "markdown",
      "source": [
        "# Predicting the closing price stock price of JP Morgan chase"
      ],
      "metadata": {
        "id": "E-StdgZDvB9l"
      }
    },
    {
      "cell_type": "code",
      "source": [
        "# Create a new dataframe with only the 'Close column \n",
        "data = df.filter(['Close'])\n",
        "# Convert the dataframe to a numpy array\n",
        "dataset = data.values\n",
        "# Get the number of rows to train the model on\n",
        "training_data_len = int(np.ceil( len(dataset) * .95 ))\n",
        "\n",
        "training_data_len"
      ],
      "metadata": {
        "id": "2-rFaeQoDmCB",
        "colab": {
          "base_uri": "https://localhost:8080/"
        },
        "outputId": "7c576b93-01e1-4e31-cc76-6ff1857a5114"
      },
      "execution_count": 4,
      "outputs": [
        {
          "output_type": "execute_result",
          "data": {
            "text/plain": [
              "1196"
            ]
          },
          "metadata": {},
          "execution_count": 4
        }
      ]
    },
    {
      "cell_type": "code",
      "source": [
        "# Scale the data\n",
        "\n",
        "scaler = MinMaxScaler(feature_range=(0,1))\n",
        "scaled_data = scaler.fit_transform(dataset)\n",
        "\n",
        "scaled_data[:11]"
      ],
      "metadata": {
        "colab": {
          "base_uri": "https://localhost:8080/"
        },
        "id": "wKoMLEA9xVJy",
        "outputId": "dc2fe72f-847d-41dd-f1f6-8b9387c5204d"
      },
      "execution_count": 16,
      "outputs": [
        {
          "output_type": "execute_result",
          "data": {
            "text/plain": [
              "array([[0.38727761],\n",
              "       [0.3904043 ],\n",
              "       [0.39256068],\n",
              "       [0.38274933],\n",
              "       [0.38393531],\n",
              "       [0.38501347],\n",
              "       [0.33336925],\n",
              "       [0.30167119],\n",
              "       [0.33725066],\n",
              "       [0.31417789],\n",
              "       [0.31234502]])"
            ]
          },
          "metadata": {},
          "execution_count": 16
        }
      ]
    },
    {
      "cell_type": "code",
      "source": [
        "# Create the training data set \n",
        "# Create the scaled training data set\n",
        "train_data = scaled_data[0:int(training_data_len), :]\n",
        "# Split the data into x_train and y_train data sets\n",
        "x_train = []\n",
        "y_train = []\n",
        "\n",
        "for i in range(60, len(train_data)):\n",
        "    x_train.append(train_data[i-60:i, 0])\n",
        "    y_train.append(train_data[i, 0])\n",
        "    #if i<= 61:\n",
        "    #    print(x_train)\n",
        "    #    print(y_train)\n",
        "    #    print()\n",
        "        \n",
        "# Convert the x_train and y_train to numpy arrays \n",
        "x_train, y_train = np.array(x_train), np.array(y_train)\n",
        "\n",
        "# Reshape the data\n",
        "x_train = np.reshape(x_train, (x_train.shape[0], x_train.shape[1], 1))\n",
        "x_train.shape"
      ],
      "metadata": {
        "colab": {
          "base_uri": "https://localhost:8080/"
        },
        "id": "YOu00_BDyogk",
        "outputId": "2b9dcc02-d13d-4456-d0b6-8c29655a8eaf"
      },
      "execution_count": 19,
      "outputs": [
        {
          "output_type": "execute_result",
          "data": {
            "text/plain": [
              "(1136, 60, 1)"
            ]
          },
          "metadata": {},
          "execution_count": 19
        }
      ]
    },
    {
      "cell_type": "code",
      "source": [
        "len(x_train[0][0])"
      ],
      "metadata": {
        "colab": {
          "base_uri": "https://localhost:8080/"
        },
        "id": "lgGdfSll1RU5",
        "outputId": "52b4d916-e7ae-490f-b0d3-300f172b4116"
      },
      "execution_count": 24,
      "outputs": [
        {
          "output_type": "execute_result",
          "data": {
            "text/plain": [
              "1"
            ]
          },
          "metadata": {},
          "execution_count": 24
        }
      ]
    },
    {
      "cell_type": "code",
      "source": [
        " #Build the LSTM model\n",
        "model = Sequential()\n",
        "model.add(LSTM(128, return_sequences=True, input_shape= (x_train.shape[1], 1)))\n",
        "model.add(LSTM(64, return_sequences=False))\n",
        "model.add(Dense(25))\n",
        "model.add(Dense(1))\n",
        "\n",
        "# Compile the model\n",
        "model.compile(optimizer='adam', loss='mean_squared_error')\n",
        "\n",
        "# Train the model\n",
        "model.fit(x_train, y_train, batch_size=1, epochs=1)"
      ],
      "metadata": {
        "colab": {
          "base_uri": "https://localhost:8080/"
        },
        "id": "GSC4lgxi0YXH",
        "outputId": "2285b3a8-4c5e-426a-e967-4d7b625c641a"
      },
      "execution_count": 20,
      "outputs": [
        {
          "output_type": "stream",
          "name": "stdout",
          "text": [
            "1136/1136 [==============================] - 27s 21ms/step - loss: 0.0042\n"
          ]
        },
        {
          "output_type": "execute_result",
          "data": {
            "text/plain": [
              "<keras.callbacks.History at 0x7f8c6e7f2940>"
            ]
          },
          "metadata": {},
          "execution_count": 20
        }
      ]
    },
    {
      "cell_type": "code",
      "source": [
        "# Create the testing data set\n",
        "test_data = scaled_data[training_data_len - 60: , :]\n",
        "# Create the data sets x_test and y_test\n",
        "x_test = []\n",
        "y_test = dataset[training_data_len:, :]\n",
        "for i in range(60, len(test_data)):\n",
        "    x_test.append(test_data[i-60:i, 0])\n",
        "    \n",
        "# Convert the data to a numpy array\n",
        "x_test = np.array(x_test)\n",
        "\n",
        "# Reshape the data\n",
        "x_test = np.reshape(x_test, (x_test.shape[0], x_test.shape[1], 1 ))\n",
        "\n",
        "# Get the models predicted price values \n",
        "predictions = model.predict(x_test)\n",
        "predictions = scaler.inverse_transform(predictions)\n",
        "\n",
        "# Get the root mean squared error (RMSE)\n",
        "rmse = np.sqrt(np.mean(((predictions - y_test) ** 2)))\n",
        "rmse"
      ],
      "metadata": {
        "colab": {
          "base_uri": "https://localhost:8080/"
        },
        "id": "JaUmzGK92FhU",
        "outputId": "cd634059-6482-4997-a81c-f78c934bd261"
      },
      "execution_count": 27,
      "outputs": [
        {
          "output_type": "stream",
          "name": "stdout",
          "text": [
            "2/2 [==============================] - 1s 23ms/step\n"
          ]
        },
        {
          "output_type": "execute_result",
          "data": {
            "text/plain": [
              "5.2583989752119535"
            ]
          },
          "metadata": {},
          "execution_count": 27
        }
      ]
    },
    {
      "cell_type": "code",
      "source": [
        "# Plot the data\n",
        "train = data[:training_data_len]\n",
        "valid = data[training_data_len:]\n",
        "valid['Predictions'] = predictions\n",
        "# Visualize the data\n",
        "plt.figure(figsize=(16,6))\n",
        "plt.title('Model')\n",
        "plt.xlabel('Date', fontsize=18)\n",
        "plt.ylabel('Close Price USD ($)', fontsize=18)\n",
        "plt.plot(train['Close'])\n",
        "plt.plot(valid[['Close', 'Predictions']])\n",
        "plt.legend(['Train', 'Val', 'Predictions'], loc='lower right')\n",
        "plt.show()"
      ],
      "metadata": {
        "colab": {
          "base_uri": "https://localhost:8080/",
          "height": 516
        },
        "id": "KyLX6IN83F7K",
        "outputId": "284ea55f-d0ef-4ef9-8645-f2645be47d47"
      },
      "execution_count": 28,
      "outputs": [
        {
          "output_type": "stream",
          "name": "stderr",
          "text": [
            "<ipython-input-28-0cdd5e68a3a9>:4: SettingWithCopyWarning: \n",
            "A value is trying to be set on a copy of a slice from a DataFrame.\n",
            "Try using .loc[row_indexer,col_indexer] = value instead\n",
            "\n",
            "See the caveats in the documentation: https://pandas.pydata.org/pandas-docs/stable/user_guide/indexing.html#returning-a-view-versus-a-copy\n",
            "  valid['Predictions'] = predictions\n"
          ]
        },
        {
          "output_type": "display_data",
          "data": {
            "text/plain": [
              "<Figure size 1152x432 with 1 Axes>"
            ],
            "image/png": "[encoded data removed]"
          },
          "metadata": {
            "needs_background": "light"
          }
        }
      ]
    },
    {
      "cell_type": "code",
      "source": [
        "valid"
      ],
      "metadata": {
        "colab": {
          "base_uri": "https://localhost:8080/",
          "height": 455
        },
        "id": "LFzlDF3Y3GlN",
        "outputId": "447e8f12-aeec-4663-dd4e-7bb53a30df23"
      },
      "execution_count": 29,
      "outputs": [
        {
          "output_type": "execute_result",
          "data": {
            "text/plain": [
              "                 Close  Predictions\n",
              "Date                               \n",
              "2022-12-12  134.210007   137.203857\n",
              "2022-12-13  134.080002   137.915497\n",
              "2022-12-14  133.410004   138.620239\n",
              "2022-12-15  130.100006   138.941101\n",
              "2022-12-16  129.289993   138.131439\n",
              "...                ...          ...\n",
              "2023-03-07  138.619995   147.119858\n",
              "2023-03-08  137.800003   145.972672\n",
              "2023-03-09  130.339996   144.509033\n",
              "2023-03-10  133.649994   141.356155\n",
              "2023-03-13  131.250000   139.493851\n",
              "\n",
              "[62 rows x 2 columns]"
            ],
            "text/html": [
              "\n",
              "  <div id=\"df-00a7fb41-ec2c-458a-b6d3-f5d5d22cebfb\">\n",
              "    <div class=\"colab-df-container\">\n",
              "      <div>\n",
              "<style scoped>\n",
              "    .dataframe tbody tr th:only-of-type {\n",
              "        vertical-align: middle;\n",
              "    }\n",
              "\n",
              "    .dataframe tbody tr th {\n",
              "        vertical-align: top;\n",
              "    }\n",
              "\n",
              "    .dataframe thead th {\n",
              "        text-align: right;\n",
              "    }\n",
              "</style>\n",
              "<table border=\"1\" class=\"dataframe\">\n",
              "  <thead>\n",
              "    <tr style=\"text-align: right;\">\n",
              "      <th></th>\n",
              "      <th>Close</th>\n",
              "      <th>Predictions</th>\n",
              "    </tr>\n",
              "    <tr>\n",
              "      <th>Date</th>\n",
              "      <th></th>\n",
              "      <th></th>\n",
              "    </tr>\n",
              "  </thead>\n",
              "  <tbody>\n",
              "    <tr>\n",
              "      <th>2022-12-12</th>\n",
              "      <td>134.210007</td>\n",
              "      <td>137.203857</td>\n",
              "    </tr>\n",
              "    <tr>\n",
              "      <th>2022-12-13</th>\n",
              "      <td>134.080002</td>\n",
              "      <td>137.915497</td>\n",
              "    </tr>\n",
              "    <tr>\n",
              "      <th>2022-12-14</th>\n",
              "      <td>133.410004</td>\n",
              "      <td>138.620239</td>\n",
              "    </tr>\n",
              "    <tr>\n",
              "      <th>2022-12-15</th>\n",
              "      <td>130.100006</td>\n",
              "      <td>138.941101</td>\n",
              "    </tr>\n",
              "    <tr>\n",
              "      <th>2022-12-16</th>\n",
              "      <td>129.289993</td>\n",
              "      <td>138.131439</td>\n",
              "    </tr>\n",
              "    <tr>\n",
              "      <th>...</th>\n",
              "      <td>...</td>\n",
              "      <td>...</td>\n",
              "    </tr>\n",
              "    <tr>\n",
              "      <th>2023-03-07</th>\n",
              "      <td>138.619995</td>\n",
              "      <td>147.119858</td>\n",
              "    </tr>\n",
              "    <tr>\n",
              "      <th>2023-03-08</th>\n",
              "      <td>137.800003</td>\n",
              "      <td>145.972672</td>\n",
              "    </tr>\n",
              "    <tr>\n",
              "      <th>2023-03-09</th>\n",
              "      <td>130.339996</td>\n",
              "      <td>144.509033</td>\n",
              "    </tr>\n",
              "    <tr>\n",
              "      <th>2023-03-10</th>\n",
              "      <td>133.649994</td>\n",
              "      <td>141.356155</td>\n",
              "    </tr>\n",
              "    <tr>\n",
              "      <th>2023-03-13</th>\n",
              "      <td>131.250000</td>\n",
              "      <td>139.493851</td>\n",
              "    </tr>\n",
              "  </tbody>\n",
              "</table>\n",
              "<p>62 rows × 2 columns</p>\n",
              "</div>\n",
              "      <button class=\"colab-df-convert\" onclick=\"convertToInteractive('df-00a7fb41-ec2c-458a-b6d3-f5d5d22cebfb')\"\n",
              "              title=\"Convert this dataframe to an interactive table.\"\n",
              "              style=\"display:none;\">\n",
              "        \n",
              "  <svg xmlns=\"http://www.w3.org/2000/svg\" height=\"24px\"viewBox=\"0 0 24 24\"\n",
              "       width=\"24px\">\n",
              "    <path d=\"M0 0h24v24H0V0z\" fill=\"none\"/>\n",
              "    <path d=\"M18.56 5.44l.94 2.06.94-2.06 2.06-.94-2.06-.94-.94-2.06-.94 2.06-2.06.94zm-11 1L8.5 8.5l.94-2.06 2.06-.94-2.06-.94L8.5 2.5l-.94 2.06-2.06.94zm10 10l.94 2.06.94-2.06 2.06-.94-2.06-.94-.94-2.06-.94 2.06-2.06.94z\"/><path d=\"M17.41 7.96l-1.37-1.37c-.4-.4-.92-.59-1.43-.59-.52 0-1.04.2-1.43.59L10.3 9.45l-7.72 7.72c-.78.78-.78 2.05 0 2.83L4 21.41c.39.39.9.59 1.41.59.51 0 1.02-.2 1.41-.59l7.78-7.78 2.81-2.81c.8-.78.8-2.07 0-2.86zM5.41 20L4 18.59l7.72-7.72 1.47 1.35L5.41 20z\"/>\n",
              "  </svg>\n",
              "      </button>\n",
              "      \n",
              "  <style>\n",
              "    .colab-df-container {\n",
              "      display:flex;\n",
              "      flex-wrap:wrap;\n",
              "      gap: 12px;\n",
              "    }\n",
              "\n",
              "    .colab-df-convert {\n",
              "      background-color: #E8F0FE;\n",
              "      border: none;\n",
              "      border-radius: 50%;\n",
              "      cursor: pointer;\n",
              "      display: none;\n",
              "      fill: #1967D2;\n",
              "      height: 32px;\n",
              "      padding: 0 0 0 0;\n",
              "      width: 32px;\n",
              "    }\n",
              "\n",
              "    .colab-df-convert:hover {\n",
              "      background-color: #E2EBFA;\n",
              "      box-shadow: 0px 1px 2px rgba(60, 64, 67, 0.3), 0px 1px 3px 1px rgba(60, 64, 67, 0.15);\n",
              "      fill: #174EA6;\n",
              "    }\n",
              "\n",
              "    [theme=dark] .colab-df-convert {\n",
              "      background-color: #3B4455;\n",
              "      fill: #D2E3FC;\n",
              "    }\n",
              "\n",
              "    [theme=dark] .colab-df-convert:hover {\n",
              "      background-color: #434B5C;\n",
              "      box-shadow: 0px 1px 3px 1px rgba(0, 0, 0, 0.15);\n",
              "      filter: drop-shadow(0px 1px 2px rgba(0, 0, 0, 0.3));\n",
              "      fill: #FFFFFF;\n",
              "    }\n",
              "  </style>\n",
              "\n",
              "      <script>\n",
              "        const buttonEl =\n",
              "          document.querySelector('#df-00a7fb41-ec2c-458a-b6d3-f5d5d22cebfb button.colab-df-convert');\n",
              "        buttonEl.style.display =\n",
              "          google.colab.kernel.accessAllowed ? 'block' : 'none';\n",
              "\n",
              "        async function convertToInteractive(key) {\n",
              "          const element = document.querySelector('#df-00a7fb41-ec2c-458a-b6d3-f5d5d22cebfb');\n",
              "          const dataTable =\n",
              "            await google.colab.kernel.invokeFunction('convertToInteractive',\n",
              "                                                     [key], {});\n",
              "          if (!dataTable) return;\n",
              "\n",
              "          const docLinkHtml = 'Like what you see? Visit the ' +\n",
              "            '<a target=\"_blank\" href=https://colab.research.google.com/notebooks/data_table.ipynb>data table notebook</a>'\n",
              "            + ' to learn more about interactive tables.';\n",
              "          element.innerHTML = '';\n",
              "          dataTable['output_type'] = 'display_data';\n",
              "          await google.colab.output.renderOutput(dataTable, element);\n",
              "          const docLink = document.createElement('div');\n",
              "          docLink.innerHTML = docLinkHtml;\n",
              "          element.appendChild(docLink);\n",
              "        }\n",
              "      </script>\n",
              "    </div>\n",
              "  </div>\n",
              "  "
            ]
          },
          "metadata": {},
          "execution_count": 29
        }
      ]
    },
    {
      "cell_type": "code",
      "source": [],
      "metadata": {
        "id": "JJx4xaKC3x9P"
      },
      "execution_count": null,
      "outputs": []
    }
  ]
}